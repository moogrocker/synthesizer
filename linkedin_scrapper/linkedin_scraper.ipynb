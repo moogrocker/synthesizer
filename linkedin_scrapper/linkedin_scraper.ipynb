{
 "cells": [
  {
   "cell_type": "markdown",
   "id": "d2dd2e3c",
   "metadata": {
    "heading_collapsed": true
   },
   "source": [
    "# Imports"
   ]
  },
  {
   "cell_type": "code",
   "execution_count": null,
   "id": "ce521ef3",
   "metadata": {
    "hidden": true
   },
   "outputs": [],
   "source": [
    "from time import sleep\n",
    "import parameters\n",
    "import os\n",
    "import pandas as pd\n",
    "from fpdf import FPDF\n",
    "\n",
    "# Traditional scrapping\n",
    "import requests\n",
    "from bs4 import BeautifulSoup\n",
    "import base64\n",
    "\n",
    "# Selenium\n",
    "from selenium import webdriver\n",
    "from selenium.webdriver.common.by import By\n",
    "from selenium.webdriver.common.keys import Keys\n",
    "from selenium.webdriver.common.print_page_options import PrintOptions\n",
    "from selenium.webdriver.support.ui import WebDriverWait\n",
    "from selenium.webdriver.support import expected_conditions as EC"
   ]
  },
  {
   "cell_type": "markdown",
   "id": "452acce5",
   "metadata": {
    "heading_collapsed": true
   },
   "source": [
    "# Selenium framework"
   ]
  },
  {
   "cell_type": "markdown",
   "id": "d7907b15",
   "metadata": {},
   "source": [
    "## LinkedIn login "
   ]
  },
  {
   "cell_type": "code",
   "execution_count": 14,
   "id": "5513836d",
   "metadata": {},
   "outputs": [],
   "source": [
    "link_name = 'moogrockersynthesizer@gmail.com'\n",
    "link_password = 'Mr9jCq6NtttN?f8$'"
   ]
  },
  {
   "cell_type": "code",
   "execution_count": 67,
   "id": "88e36551",
   "metadata": {
    "hidden": true
   },
   "outputs": [
    {
     "ename": "TimeoutException",
     "evalue": "Message: \n",
     "output_type": "error",
     "traceback": [
      "\u001b[31m---------------------------------------------------------------------------\u001b[39m",
      "\u001b[31mTimeoutException\u001b[39m                          Traceback (most recent call last)",
      "\u001b[36mCell\u001b[39m\u001b[36m \u001b[39m\u001b[32mIn[67]\u001b[39m\u001b[32m, line 39\u001b[39m\n\u001b[32m     24\u001b[39m     \u001b[38;5;28mprint\u001b[39m(\u001b[33m\"\u001b[39m\u001b[33mError: Page did not load in time\u001b[39m\u001b[33m\"\u001b[39m, e)\n\u001b[32m     26\u001b[39m \u001b[38;5;66;03m# # print pdf\u001b[39;00m\n\u001b[32m     27\u001b[39m \u001b[38;5;66;03m# print_options = PrintOptions()\u001b[39;00m\n\u001b[32m     28\u001b[39m \u001b[38;5;66;03m# pdf_encoded = driver.print_page(print_options)\u001b[39;00m\n\u001b[32m   (...)\u001b[39m\u001b[32m     37\u001b[39m \n\u001b[32m     38\u001b[39m \u001b[38;5;66;03m# Wait for the search bar to be clickable with increased timeout\u001b[39;00m\n\u001b[32m---> \u001b[39m\u001b[32m39\u001b[39m search = \u001b[43mWebDriverWait\u001b[49m\u001b[43m(\u001b[49m\u001b[43mdriver\u001b[49m\u001b[43m,\u001b[49m\u001b[43m \u001b[49m\u001b[32;43m30\u001b[39;49m\u001b[43m)\u001b[49m\u001b[43m.\u001b[49m\u001b[43muntil\u001b[49m\u001b[43m(\u001b[49m\n\u001b[32m     40\u001b[39m \u001b[43m    \u001b[49m\u001b[43mEC\u001b[49m\u001b[43m.\u001b[49m\u001b[43melement_to_be_clickable\u001b[49m\u001b[43m(\u001b[49m\u001b[43m(\u001b[49m\u001b[43mBy\u001b[49m\u001b[43m.\u001b[49m\u001b[43mCLASS_NAME\u001b[49m\u001b[43m,\u001b[49m\u001b[43m \u001b[49m\u001b[33;43m'\u001b[39;49m\u001b[33;43msearch-global-typeahead__input\u001b[39;49m\u001b[33;43m'\u001b[39;49m\u001b[43m)\u001b[49m\u001b[43m)\u001b[49m\n\u001b[32m     41\u001b[39m \u001b[43m)\u001b[49m\n\u001b[32m     43\u001b[39m \u001b[38;5;66;03m# Scroll into view\u001b[39;00m\n\u001b[32m     44\u001b[39m driver.execute_script(\u001b[33m\"\u001b[39m\u001b[33marguments[0].scrollIntoView();\u001b[39m\u001b[33m\"\u001b[39m, search)\n",
      "\u001b[36mFile \u001b[39m\u001b[32m~/.pyenv/versions/synth_env/lib/python3.13/site-packages/selenium/webdriver/support/wait.py:146\u001b[39m, in \u001b[36mWebDriverWait.until\u001b[39m\u001b[34m(self, method, message)\u001b[39m\n\u001b[32m    144\u001b[39m         \u001b[38;5;28;01mbreak\u001b[39;00m\n\u001b[32m    145\u001b[39m     time.sleep(\u001b[38;5;28mself\u001b[39m._poll)\n\u001b[32m--> \u001b[39m\u001b[32m146\u001b[39m \u001b[38;5;28;01mraise\u001b[39;00m TimeoutException(message, screen, stacktrace)\n",
      "\u001b[31mTimeoutException\u001b[39m: Message: \n"
     ]
    }
   ],
   "source": [
    "# Set up Selenium WebDriver\n",
    "driver = webdriver.Chrome()\n",
    "\n",
    "# Go to LinkedIn's login page\n",
    "driver.get(\"https://www.linkedin.com/login\")\n",
    "\n",
    "# Find the username and password fields\n",
    "username = driver.find_element(By.NAME, \"session_key\")\n",
    "password = driver.find_element(By.NAME, \"session_password\")\n",
    "\n",
    "# Enter your credentials\n",
    "username.send_keys(link_name)\n",
    "password.send_keys(link_password)\n",
    "\n",
    "# Submit the login form\n",
    "password.send_keys(Keys.RETURN)\n",
    "\n",
    "# Wait for the welcome page to load by waiting for a specific element to appear\n",
    "try:\n",
    "    WebDriverWait(driver, 10).until(\n",
    "        EC.presence_of_element_located((By.ID, \"global-nav\"))  # Adjust the selector to match an element on the welcome page\n",
    "    )\n",
    "except Exception as e:\n",
    "    print(\"Error: Page did not load in time\", e)\n",
    "\n",
    "# # print pdf\n",
    "# print_options = PrintOptions()\n",
    "# pdf_encoded = driver.print_page(print_options)\n",
    "\n",
    "# # Decode the Base64 content\n",
    "# pdf_data = base64.b64decode(pdf_encoded)\n",
    "\n",
    "# # Save the PDF to a file\n",
    "# with open(\"linkedin_page.pdf\", \"wb\") as f:\n",
    "#     f.write(pdf_data)\n",
    "\n",
    "\n",
    "# Wait for the search bar to be clickable with increased timeout\n",
    "search = WebDriverWait(driver, 30).until(\n",
    "    EC.element_to_be_clickable((By.CLASS_NAME, 'search-global-typeahead__input'))\n",
    ")\n",
    "\n",
    "# Scroll into view\n",
    "driver.execute_script(\"arguments[0].scrollIntoView();\", search)\n",
    "\n",
    "# Click on the search bar using JavaScript\n",
    "driver.execute_script(\"arguments[0].click();\", search)\n",
    "\n",
    "# Send keys to the search bar to perform a search\n",
    "search.send_keys('data scientist')\n",
    "search.send_keys(Keys.RETURN)\n",
    "\n",
    "\n",
    "\n",
    "\n",
    "sleep(5)\n",
    "\n",
    "search = WebDriverWait(driver, 10).until(\n",
    "    EC.element_to_be_clickable((By.CLASS_NAME, 'search-global-typeahead__input'))\n",
    ")\n",
    "\n",
    "# Scroll into view\n",
    "driver.execute_script(\"arguments[0].scrollIntoView();\", search)\n",
    "\n",
    "# Click on the search bar\n",
    "search.click()\n",
    "\n",
    "# Optionally, you can send keys to the search bar to perform a search\n",
    "search.send_keys('data scientist')\n",
    "search.send_keys(Keys.RETURN)\n",
    "\n",
    "\n",
    "# people = WebDriverWait(driver, 10).until(\n",
    "#     EC.element_to_be_clickable((By.XPATH, \"//button[contains(text(), 'Personnes')]\"))\n",
    "# )\n",
    "\n",
    "# # Scroll into view\n",
    "# driver.execute_script(\"arguments[0].scrollIntoView();\", people)\n",
    "\n",
    "# # Click on the \"Personnes\" filter button\n",
    "# people.click()"
   ]
  },
  {
   "cell_type": "code",
   "execution_count": 51,
   "id": "51c49aff",
   "metadata": {},
   "outputs": [
    {
     "name": "stdout",
     "output_type": "stream",
     "text": [
      "Search bar found using CSS selector.\n",
      "Search bar scrolled into view.\n",
      "Search bar clicked using JavaScript.\n"
     ]
    },
    {
     "ename": "ElementNotInteractableException",
     "evalue": "Message: element not interactable\n  (Session info: chrome=136.0.7103.49)\nStacktrace:\n#0 0x55bfeaeeb7fa <unknown>\n#1 0x55bfea98fce3 <unknown>\n#2 0x55bfea9d7df2 <unknown>\n#3 0x55bfeaa07242 <unknown>\n#4 0x55bfea9d52fa <unknown>\n#5 0x55bfeaa0740e <unknown>\n#6 0x55bfeaa2d135 <unknown>\n#7 0x55bfeaa07013 <unknown>\n#8 0x55bfea9d3b3b <unknown>\n#9 0x55bfea9d47a1 <unknown>\n#10 0x55bfeaeb0b9b <unknown>\n#11 0x55bfeaeb4a8a <unknown>\n#12 0x55bfeae98912 <unknown>\n#13 0x55bfeaeb5604 <unknown>\n#14 0x55bfeae7d74f <unknown>\n#15 0x55bfeaed9678 <unknown>\n#16 0x55bfeaed9856 <unknown>\n#17 0x55bfeaeea666 <unknown>\n#18 0x7f8a41628aa4 <unknown>\n#19 0x7f8a416b5c3c <unknown>\n",
     "output_type": "error",
     "traceback": [
      "\u001b[31m---------------------------------------------------------------------------\u001b[39m",
      "\u001b[31mElementNotInteractableException\u001b[39m           Traceback (most recent call last)",
      "\u001b[36mCell\u001b[39m\u001b[36m \u001b[39m\u001b[32mIn[51]\u001b[39m\u001b[32m, line 47\u001b[39m\n\u001b[32m     44\u001b[39m all_profiles = {}\n\u001b[32m     46\u001b[39m \u001b[38;5;28;01mfor\u001b[39;00m job_title \u001b[38;5;129;01min\u001b[39;00m job_titles:\n\u001b[32m---> \u001b[39m\u001b[32m47\u001b[39m     all_profiles[job_title] = \u001b[43msearch_profiles\u001b[49m\u001b[43m(\u001b[49m\u001b[43mjob_title\u001b[49m\u001b[43m)\u001b[49m\n\u001b[32m     48\u001b[39m     sleep(\u001b[32m2\u001b[39m)  \u001b[38;5;66;03m# Avoid getting blocked by LinkedIn\u001b[39;00m\n\u001b[32m     50\u001b[39m \u001b[38;5;28mprint\u001b[39m(all_profiles)\n",
      "\u001b[36mCell\u001b[39m\u001b[36m \u001b[39m\u001b[32mIn[51]\u001b[39m\u001b[32m, line 27\u001b[39m, in \u001b[36msearch_profiles\u001b[39m\u001b[34m(job_title)\u001b[39m\n\u001b[32m     17\u001b[39m \u001b[38;5;28mprint\u001b[39m(\u001b[33m\"\u001b[39m\u001b[33mSearch bar clicked using JavaScript.\u001b[39m\u001b[33m\"\u001b[39m)\n\u001b[32m     20\u001b[39m \u001b[38;5;66;03m# Wait for the search bar to gain focus\u001b[39;00m\n\u001b[32m     21\u001b[39m \u001b[38;5;66;03m# WebDriverWait(driver, 10).until(\u001b[39;00m\n\u001b[32m     22\u001b[39m \u001b[38;5;66;03m#     EC.presence_of_element_located((By.CSS_SELECTOR, 'input.search-global-typeahead__input--focused'))\u001b[39;00m\n\u001b[32m   (...)\u001b[39m\u001b[32m     25\u001b[39m \n\u001b[32m     26\u001b[39m \u001b[38;5;66;03m# Enter the job title in the search bar\u001b[39;00m\n\u001b[32m---> \u001b[39m\u001b[32m27\u001b[39m \u001b[43msearch_bar\u001b[49m\u001b[43m.\u001b[49m\u001b[43mclear\u001b[49m\u001b[43m(\u001b[49m\u001b[43m)\u001b[49m\n\u001b[32m     28\u001b[39m search_bar.send_keys(job_title)\n\u001b[32m     29\u001b[39m search_bar.send_keys(Keys.RETURN)\n",
      "\u001b[36mFile \u001b[39m\u001b[32m~/.pyenv/versions/synth_env/lib/python3.13/site-packages/selenium/webdriver/remote/webelement.py:154\u001b[39m, in \u001b[36mWebElement.clear\u001b[39m\u001b[34m(self)\u001b[39m\n\u001b[32m    146\u001b[39m \u001b[38;5;28;01mdef\u001b[39;00m\u001b[38;5;250m \u001b[39m\u001b[34mclear\u001b[39m(\u001b[38;5;28mself\u001b[39m) -> \u001b[38;5;28;01mNone\u001b[39;00m:\n\u001b[32m    147\u001b[39m \u001b[38;5;250m    \u001b[39m\u001b[33;03m\"\"\"Clears the text if it's a text entry element.\u001b[39;00m\n\u001b[32m    148\u001b[39m \n\u001b[32m    149\u001b[39m \u001b[33;03m    Example:\u001b[39;00m\n\u001b[32m   (...)\u001b[39m\u001b[32m    152\u001b[39m \u001b[33;03m    >>> text_field.clear()\u001b[39;00m\n\u001b[32m    153\u001b[39m \u001b[33;03m    \"\"\"\u001b[39;00m\n\u001b[32m--> \u001b[39m\u001b[32m154\u001b[39m     \u001b[38;5;28;43mself\u001b[39;49m\u001b[43m.\u001b[49m\u001b[43m_execute\u001b[49m\u001b[43m(\u001b[49m\u001b[43mCommand\u001b[49m\u001b[43m.\u001b[49m\u001b[43mCLEAR_ELEMENT\u001b[49m\u001b[43m)\u001b[49m\n",
      "\u001b[36mFile \u001b[39m\u001b[32m~/.pyenv/versions/synth_env/lib/python3.13/site-packages/selenium/webdriver/remote/webelement.py:572\u001b[39m, in \u001b[36mWebElement._execute\u001b[39m\u001b[34m(self, command, params)\u001b[39m\n\u001b[32m    570\u001b[39m     params = {}\n\u001b[32m    571\u001b[39m params[\u001b[33m\"\u001b[39m\u001b[33mid\u001b[39m\u001b[33m\"\u001b[39m] = \u001b[38;5;28mself\u001b[39m._id\n\u001b[32m--> \u001b[39m\u001b[32m572\u001b[39m \u001b[38;5;28;01mreturn\u001b[39;00m \u001b[38;5;28;43mself\u001b[39;49m\u001b[43m.\u001b[49m\u001b[43m_parent\u001b[49m\u001b[43m.\u001b[49m\u001b[43mexecute\u001b[49m\u001b[43m(\u001b[49m\u001b[43mcommand\u001b[49m\u001b[43m,\u001b[49m\u001b[43m \u001b[49m\u001b[43mparams\u001b[49m\u001b[43m)\u001b[49m\n",
      "\u001b[36mFile \u001b[39m\u001b[32m~/.pyenv/versions/synth_env/lib/python3.13/site-packages/selenium/webdriver/remote/webdriver.py:429\u001b[39m, in \u001b[36mWebDriver.execute\u001b[39m\u001b[34m(self, driver_command, params)\u001b[39m\n\u001b[32m    427\u001b[39m response = \u001b[38;5;28mself\u001b[39m.command_executor.execute(driver_command, params)\n\u001b[32m    428\u001b[39m \u001b[38;5;28;01mif\u001b[39;00m response:\n\u001b[32m--> \u001b[39m\u001b[32m429\u001b[39m     \u001b[38;5;28;43mself\u001b[39;49m\u001b[43m.\u001b[49m\u001b[43merror_handler\u001b[49m\u001b[43m.\u001b[49m\u001b[43mcheck_response\u001b[49m\u001b[43m(\u001b[49m\u001b[43mresponse\u001b[49m\u001b[43m)\u001b[49m\n\u001b[32m    430\u001b[39m     response[\u001b[33m\"\u001b[39m\u001b[33mvalue\u001b[39m\u001b[33m\"\u001b[39m] = \u001b[38;5;28mself\u001b[39m._unwrap_value(response.get(\u001b[33m\"\u001b[39m\u001b[33mvalue\u001b[39m\u001b[33m\"\u001b[39m, \u001b[38;5;28;01mNone\u001b[39;00m))\n\u001b[32m    431\u001b[39m     \u001b[38;5;28;01mreturn\u001b[39;00m response\n",
      "\u001b[36mFile \u001b[39m\u001b[32m~/.pyenv/versions/synth_env/lib/python3.13/site-packages/selenium/webdriver/remote/errorhandler.py:232\u001b[39m, in \u001b[36mErrorHandler.check_response\u001b[39m\u001b[34m(self, response)\u001b[39m\n\u001b[32m    230\u001b[39m         alert_text = value[\u001b[33m\"\u001b[39m\u001b[33malert\u001b[39m\u001b[33m\"\u001b[39m].get(\u001b[33m\"\u001b[39m\u001b[33mtext\u001b[39m\u001b[33m\"\u001b[39m)\n\u001b[32m    231\u001b[39m     \u001b[38;5;28;01mraise\u001b[39;00m exception_class(message, screen, stacktrace, alert_text)  \u001b[38;5;66;03m# type: ignore[call-arg]  # mypy is not smart enough here\u001b[39;00m\n\u001b[32m--> \u001b[39m\u001b[32m232\u001b[39m \u001b[38;5;28;01mraise\u001b[39;00m exception_class(message, screen, stacktrace)\n",
      "\u001b[31mElementNotInteractableException\u001b[39m: Message: element not interactable\n  (Session info: chrome=136.0.7103.49)\nStacktrace:\n#0 0x55bfeaeeb7fa <unknown>\n#1 0x55bfea98fce3 <unknown>\n#2 0x55bfea9d7df2 <unknown>\n#3 0x55bfeaa07242 <unknown>\n#4 0x55bfea9d52fa <unknown>\n#5 0x55bfeaa0740e <unknown>\n#6 0x55bfeaa2d135 <unknown>\n#7 0x55bfeaa07013 <unknown>\n#8 0x55bfea9d3b3b <unknown>\n#9 0x55bfea9d47a1 <unknown>\n#10 0x55bfeaeb0b9b <unknown>\n#11 0x55bfeaeb4a8a <unknown>\n#12 0x55bfeae98912 <unknown>\n#13 0x55bfeaeb5604 <unknown>\n#14 0x55bfeae7d74f <unknown>\n#15 0x55bfeaed9678 <unknown>\n#16 0x55bfeaed9856 <unknown>\n#17 0x55bfeaeea666 <unknown>\n#18 0x7f8a41628aa4 <unknown>\n#19 0x7f8a416b5c3c <unknown>\n"
     ]
    }
   ],
   "source": [
    "def search_profiles(job_title):\n",
    "\n",
    "    try:\n",
    "        # Try to locate the search bar using CSS selector\n",
    "        search_bar = WebDriverWait(driver, 10).until(\n",
    "            EC.presence_of_element_located((By.CSS_SELECTOR, 'input.search-global-typeahead__input'))\n",
    "        )\n",
    "        print(\"Search bar found using CSS selector.\")\n",
    "    except:\n",
    "        print(\"Search bar not found.\")\n",
    "\n",
    "    # Scroll the search bar into view\n",
    "    driver.execute_script(\"arguments[0].scrollIntoView(true);\", search_bar)\n",
    "    print(\"Search bar scrolled into view.\")\n",
    "\n",
    "    driver.execute_script(\"arguments[0].click();\", search_bar)\n",
    "    print(\"Search bar clicked using JavaScript.\")\n",
    "\n",
    "\n",
    "    # Wait for the search bar to gain focus\n",
    "    # WebDriverWait(driver, 10).until(\n",
    "    #     EC.presence_of_element_located((By.CSS_SELECTOR, 'input.search-global-typeahead__input--focused'))\n",
    "    # )\n",
    "    # print(\"Search bar focused.\")\n",
    "\n",
    "    # Enter the job title in the search bar\n",
    "    search_bar.clear()\n",
    "    search_bar.send_keys(job_title)\n",
    "    search_bar.send_keys(Keys.RETURN)\n",
    "    sleep(2)\n",
    "\n",
    "    # Extract profile URLs\n",
    "    profile_urls = []\n",
    "    results = driver.find_elements(By.CSS_SELECTOR, 'a.app-aware-link')\n",
    "    for result in results:\n",
    "        url = result.get_attribute('href')\n",
    "        if '/in/' in url:  # Ensure it's a profile URL\n",
    "            profile_urls.append(url)\n",
    "\n",
    "    return profile_urls\n",
    "\n",
    "# Example usage\n",
    "job_titles = ['Software Engineer', 'Data Scientist', 'Product Manager']\n",
    "all_profiles = {}\n",
    "\n",
    "for job_title in job_titles:\n",
    "    all_profiles[job_title] = search_profiles(job_title)\n",
    "    sleep(2)  # Avoid getting blocked by LinkedIn\n",
    "\n",
    "print(all_profiles)"
   ]
  },
  {
   "cell_type": "markdown",
   "id": "a92327a4",
   "metadata": {},
   "source": [
    "## Google login"
   ]
  },
  {
   "cell_type": "code",
   "execution_count": 5,
   "id": "1d569dfd",
   "metadata": {},
   "outputs": [],
   "source": [
    "gg_mail = \"moogrockersynthesizer@gmail.com\"\n",
    "gg_pass = \"C46K7eEA3KRf4@Bj\""
   ]
  },
  {
   "cell_type": "code",
   "execution_count": 6,
   "id": "7f1039f3",
   "metadata": {},
   "outputs": [
    {
     "name": "stdout",
     "output_type": "stream",
     "text": [
      "Password entered.\n",
      "Login successful!\n"
     ]
    }
   ],
   "source": [
    "# Set up Selenium WebDriver (ensure the path to chromedriver is correct)\n",
    "driver = webdriver.Chrome()\n",
    "\n",
    "# Go to the Google login page\n",
    "driver.get('https://accounts.google.com/signin')\n",
    "\n",
    "# Wait for the email input field to be present and enter the email\n",
    "try:\n",
    "    email_field = WebDriverWait(driver, 10).until(\n",
    "        EC.presence_of_element_located((By.NAME, 'identifier'))\n",
    "    )\n",
    "    email_field.send_keys(gg_mail)  # Replace with your email\n",
    "    email_field.send_keys(Keys.RETURN)\n",
    "except Exception as e:\n",
    "    print(\"Error: Email field not found\", e)\n",
    "\n",
    "# Wait for the password input field to be present and enter the password\n",
    "try:\n",
    "    password_field = WebDriverWait(driver, 10).until(\n",
    "        EC.presence_of_element_located((By.NAME, 'Passwd'))\n",
    "    )\n",
    "    password_field.send_keys(gg_pass)  # Replace with your password\n",
    "    password_field.send_keys(Keys.RETURN)\n",
    "    print(\"Password entered.\")\n",
    "except Exception as e:\n",
    "    print(\"Error: Password field not found\", e)\n",
    "\n",
    "# Wait for the login process to complete\n",
    "time.sleep(5)\n",
    "\n",
    "# Verify that the login was successful by checking for a specific element on the homepage\n",
    "try:\n",
    "    WebDriverWait(driver, 10).until(\n",
    "        EC.presence_of_element_located((By.ID, 'gb'))  # Example: Google homepage element\n",
    "    )\n",
    "    print(\"Login successful!\")\n",
    "except Exception as e:\n",
    "    print(\"Error: Login failed\", e)\n",
    "\n",
    "# Close the WebDriver\n",
    "# driver.quit()"
   ]
  },
  {
   "cell_type": "markdown",
   "id": "292983f5",
   "metadata": {},
   "source": [
    "## Google crawling (Linkedin profile scrapping)"
   ]
  },
  {
   "cell_type": "code",
   "execution_count": null,
   "id": "59373470",
   "metadata": {},
   "outputs": [
    {
     "name": "stdout",
     "output_type": "stream",
     "text": [
      "[]\n"
     ]
    }
   ],
   "source": [
    "driver = webdriver.Chrome()\n",
    "\n",
    "# Go to Google's homepage\n",
    "driver.get('https://google.com')\n",
    "\n",
    "# Wait for the cookie consent popup to appear and accept it\n",
    "try:\n",
    "    accept_button = WebDriverWait(driver, 10).until(\n",
    "        EC.presence_of_element_located((By.ID, \"L2AGLb\"))\n",
    "    )\n",
    "    accept_button.click()\n",
    "except Exception as e:\n",
    "    print(\"Error: Cookie consent popup not found or not clicked\", e)\n",
    "\n",
    "# Wait for the search bar to be present\n",
    "try:\n",
    "    sleep(3)\n",
    "    search_query = WebDriverWait(driver, 10).until(\n",
    "        EC.presence_of_element_located((By.NAME, 'q'))\n",
    "    )\n",
    "    search_query.send_keys('site:linkedin.com/in/ AND \"python developer\" AND \"London\"')  # Replace with your search query\n",
    "    search_query.send_keys(Keys.RETURN)\n",
    "except Exception as e:\n",
    "    print(\"Error: Search bar not found\", e)\n",
    "\n",
    "# Wait for the search results to load\n",
    "sleep(3)\n",
    "\n",
    "# ANTICAPTCHA\n",
    "\n",
    "\n",
    "\n",
    "\n",
    "# Find and extract LinkedIn URLs from the search results\n",
    "try:\n",
    "    # Use a more specific CSS selector to target the LinkedIn profile links\n",
    "    linkedin_elements = driver.find_elements(By.CSS_SELECTOR, 'a[href*=\"linkedin.com/in/\"][ping]')\n",
    "    linkedin_urls = [element.get_attribute('href') for element in linkedin_elements]\n",
    "    print(linkedin_urls)\n",
    "\n",
    "except Exception as e:\n",
    "    print(\"Error: LinkedIn URLs not found\", e)\n",
    "\n",
    "# Close the WebDriver\n",
    "# driver.quit()"
   ]
  },
  {
   "cell_type": "code",
   "execution_count": null,
   "id": "9ab578c1",
   "metadata": {},
   "outputs": [
    {
     "ename": "NameError",
     "evalue": "name 'webdriver' is not defined",
     "output_type": "error",
     "traceback": [
      "\u001b[31m---------------------------------------------------------------------------\u001b[39m",
      "\u001b[31mNameError\u001b[39m                                 Traceback (most recent call last)",
      "\u001b[36mCell\u001b[39m\u001b[36m \u001b[39m\u001b[32mIn[1]\u001b[39m\u001b[32m, line 2\u001b[39m\n\u001b[32m      1\u001b[39m \u001b[38;5;66;03m# Set up Selenium WebDriver\u001b[39;00m\n\u001b[32m----> \u001b[39m\u001b[32m2\u001b[39m driver = \u001b[43mwebdriver\u001b[49m.Chrome()\n\u001b[32m      4\u001b[39m \u001b[38;5;66;03m# Go to Google's homepage\u001b[39;00m\n\u001b[32m      5\u001b[39m driver.get(\u001b[33m'\u001b[39m\u001b[33mhttps://google.com\u001b[39m\u001b[33m'\u001b[39m)\n",
      "\u001b[31mNameError\u001b[39m: name 'webdriver' is not defined"
     ]
    }
   ],
   "source": [
    "# Set up Selenium WebDriver\n",
    "driver = webdriver.Chrome()\n",
    "\n",
    "# Go to Google's homepage\n",
    "driver.get('https://google.com')\n",
    "\n",
    "# Wait for the cookie consent popup to appear and accept it\n",
    "try:\n",
    "    accept_button = WebDriverWait(driver, 10).until(\n",
    "        EC.presence_of_element_located((By.ID, \"L2AGLb\"))\n",
    "    )\n",
    "    accept_button.click()\n",
    "    print(\"Cookie consent popup accepted.\")\n",
    "except Exception as e:\n",
    "    print(\"Error: Cookie consent popup not found or not clicked\", e)\n",
    "\n",
    "# Wait for the search bar to be present\n",
    "try:\n",
    "    search_query = WebDriverWait(driver, 10).until(\n",
    "        EC.presence_of_element_located((By.NAME, 'q'))\n",
    "    )\n",
    "    search_query.send_keys('site:linkedin.com/in/ AND \"python developer\" AND \"London\"')  # Replace with your search query\n",
    "    search_query.send_keys(Keys.RETURN)\n",
    "    print(\"Search query submitted.\")\n",
    "except Exception as e:\n",
    "    print(\"Error: Search bar not found\", e)\n",
    "\n",
    "# Wait for the search results to load\n",
    "sleep(3)\n",
    "\n",
    "# Function to extract LinkedIn URLs from the current page\n",
    "def extract_linkedin_urls():\n",
    "    try:\n",
    "        # Use a more specific CSS selector to target the LinkedIn profile links\n",
    "        linkedin_elements = driver.find_elements(By.CSS_SELECTOR, 'a[href*=\"linkedin.com/in/\"][ping]')\n",
    "        linkedin_urls = [element.get_attribute('href') for element in linkedin_elements]\n",
    "        return linkedin_urls\n",
    "    except Exception as e:\n",
    "        print(\"Error: LinkedIn URLs not found\", e)\n",
    "        return []\n",
    "\n",
    "# List to store all LinkedIn URLs\n",
    "all_linkedin_urls = []\n",
    "\n",
    "# Loop through the first 5 pages\n",
    "for page in range(5):\n",
    "    # Wait for the search results to load\n",
    "    sleep(3)\n",
    "\n",
    "    # Extract LinkedIn URLs from the current page\n",
    "    linkedin_urls = extract_linkedin_urls()\n",
    "    all_linkedin_urls.extend(linkedin_urls)\n",
    "    print(f\"Page {page + 1}: {linkedin_urls}\")\n",
    "\n",
    "    # Try to click the \"Next\" button to go to the next page\n",
    "    try:\n",
    "        next_button = WebDriverWait(driver, 10).until(\n",
    "            EC.presence_of_element_located((By.ID, 'pnnext'))\n",
    "        )\n",
    "        print(\"Next button found:\", next_button.get_attribute('outerHTML'))\n",
    "        next_button.click()\n",
    "        print(f\"Navigated to page {page + 2}.\")\n",
    "    except Exception as e:\n",
    "        print(\"Error: Next button not found or not clicked\", e)\n",
    "        break\n",
    "\n",
    "# Print all extracted LinkedIn URLs\n",
    "print(\"All LinkedIn URLs:\", all_linkedin_urls)\n",
    "\n",
    "# Close the WebDriver\n",
    "driver.quit()\n"
   ]
  },
  {
   "cell_type": "markdown",
   "id": "a9d52156",
   "metadata": {},
   "source": [
    "# Mistral OCR"
   ]
  },
  {
   "cell_type": "code",
   "execution_count": 35,
   "id": "e3440b6f",
   "metadata": {},
   "outputs": [],
   "source": [
    "from mistralai import Mistral\n",
    "import os\n",
    "from pathlib import Path\n",
    "from mistralai import DocumentURLChunk, ImageURLChunk, TextChunk\n",
    "import json\n",
    "\n",
    "api_key = \"Hz5YqlbdNAjk2tSGuv7ayxzTkEUPX7HK\"\n",
    "ocr_model = \"mistral-ocr-latest\"\n",
    "pdf = \"formation.pdf\"\n",
    "client = Mistral(api_key=api_key)"
   ]
  },
  {
   "cell_type": "code",
   "execution_count": 43,
   "id": "374dc806",
   "metadata": {},
   "outputs": [],
   "source": [
    "def get_url(pdf):\n",
    "    # Get URL for the uploaded file\n",
    "    uploaded_pdf = client.files.upload(\n",
    "        file={\n",
    "            \"file_name\": pdf,\n",
    "            \"content\": open(pdf, \"rb\"),\n",
    "        },\n",
    "        purpose=\"ocr\"\n",
    "    )\n",
    "    url = client.files.get_signed_url(file_id=uploaded_pdf.id, expiry=1).url\n",
    "    return url"
   ]
  },
  {
   "cell_type": "code",
   "execution_count": 45,
   "id": "789b1572",
   "metadata": {},
   "outputs": [],
   "source": [
    "def _perform_ocr(url: str) -> str:\n",
    "\n",
    "    # Apply OCR to the PDF URL\n",
    "    response = client.ocr.process(\n",
    "        model=ocr_model,\n",
    "        document={\n",
    "            \"type\": \"document_url\",\n",
    "            \"document_url\": url\n",
    "            }\n",
    "        )\n",
    "    ocr_output = \"\\n\\n\".join([f\"### Page {i+1}\\n{response.pages[i].markdown}\" for i in range(len(response.pages))])\n",
    "    return ocr_output"
   ]
  },
  {
   "cell_type": "code",
   "execution_count": 46,
   "id": "802279c5",
   "metadata": {},
   "outputs": [],
   "source": [
    "def get_json(output: str)-> str:\n",
    "\n",
    "    response = client.chat.complete(\n",
    "        model=\"pixtral-12b-latest\",\n",
    "        messages=[\n",
    "            {\n",
    "                \"role\": \"user\",\n",
    "                \"content\": f\"this is the markdown version of a linkedin profile's education:\\n{output}\\nSelect uniquely the part concerning the formation and convert it into a sensible structured json response with the following keys: 'institution', 'degree', 'date', 'description'.\\nThe output should be strictly json with no extra comment\\n\"\n",
    "            },\n",
    "        ],\n",
    "        response_format= {\"type\": \"json_object\"},\n",
    "        temperature=0,\n",
    "    )\n",
    "    response_dict = json.loads(response.choices[0].message.content)\n",
    "    return response_dict"
   ]
  },
  {
   "cell_type": "code",
   "execution_count": null,
   "id": "903df42e",
   "metadata": {},
   "outputs": [],
   "source": [
    "# def open_urls(urls: list) -> str:\n",
    "#     contents = \"# Documents\"\n",
    "#     for url in urls:\n",
    "#         contents += f\"\\n\\n## URL: {url}\\n{_perform_ocr(url)}\"\n",
    "#     return contents"
   ]
  },
  {
   "cell_type": "code",
   "execution_count": 49,
   "id": "9a72de02",
   "metadata": {},
   "outputs": [
    {
     "data": {
      "text/plain": [
       "{'education': [{'institution': 'Imperial College London',\n",
       "   'degree': \"Master's degree\",\n",
       "   'date': 'sept. 2024 - sept. 2025',\n",
       "   'description': 'Artificial Intelligence Applications and Innovation'},\n",
       "  {'institution': 'ESMT Berlin',\n",
       "   'degree': \"Master's degree\",\n",
       "   'date': 'sept. 2021 - sept. 2023',\n",
       "   'description': 'Master in Management - Business Analytics'},\n",
       "  {'institution': 'Queen Mary University of London',\n",
       "   'degree': \"Bachelor's Degree\",\n",
       "   'date': 'sept. 2017 - juil. 2021',\n",
       "   'description': 'e-Commerce Engineering with Law'},\n",
       "  {'institution': '北京邮电大学',\n",
       "   'degree': \"Bachelor's degree\",\n",
       "   'date': 'sept. 2017 - juil. 2021',\n",
       "   'description': 'e-Commerce Engineering with Law'}]}"
      ]
     },
     "execution_count": 49,
     "metadata": {},
     "output_type": "execute_result"
    }
   ],
   "source": [
    "get_json(_perform_ocr(get_url(\"formation.pdf\")))"
   ]
  }
 ],
 "metadata": {
  "kernelspec": {
   "display_name": "synth_env",
   "language": "python",
   "name": "python3"
  },
  "language_info": {
   "codemirror_mode": {
    "name": "ipython",
    "version": 3
   },
   "file_extension": ".py",
   "mimetype": "text/x-python",
   "name": "python",
   "nbconvert_exporter": "python",
   "pygments_lexer": "ipython3",
   "version": "3.13.3"
  },
  "varInspector": {
   "cols": {
    "lenName": 16,
    "lenType": 16,
    "lenVar": 40
   },
   "kernels_config": {
    "python": {
     "delete_cmd_postfix": "",
     "delete_cmd_prefix": "del ",
     "library": "var_list.py",
     "varRefreshCmd": "print(var_dic_list())"
    },
    "r": {
     "delete_cmd_postfix": ") ",
     "delete_cmd_prefix": "rm(",
     "library": "var_list.r",
     "varRefreshCmd": "cat(var_dic_list()) "
    }
   },
   "types_to_exclude": [
    "module",
    "function",
    "builtin_function_or_method",
    "instance",
    "_Feature"
   ],
   "window_display": false
  }
 },
 "nbformat": 4,
 "nbformat_minor": 5
}
