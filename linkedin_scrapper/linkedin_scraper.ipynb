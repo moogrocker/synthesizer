{
 "cells": [
  {
   "cell_type": "markdown",
   "id": "d2dd2e3c",
   "metadata": {
    "heading_collapsed": true
   },
   "source": [
    "# Imports"
   ]
  },
  {
   "cell_type": "code",
   "execution_count": 19,
   "id": "ce521ef3",
   "metadata": {
    "hidden": true
   },
   "outputs": [],
   "source": [
    "from time import sleep\n",
    "import parameters\n",
    "import os\n",
    "import pandas as pd\n",
    "from fpdf import FPDF\n",
    "import urllib.parse\n",
    "\n",
    "# Traditional scrapping\n",
    "import requests\n",
    "from bs4 import BeautifulSoup\n",
    "import base64\n",
    "\n",
    "# Selenium\n",
    "from selenium import webdriver\n",
    "from selenium.webdriver.chrome.service import Service\n",
    "from selenium.webdriver.common.by import By\n",
    "from selenium.webdriver.common.keys import Keys\n",
    "from selenium.webdriver.common.print_page_options import PrintOptions\n",
    "from selenium.webdriver.support.ui import WebDriverWait\n",
    "from selenium.webdriver.support import expected_conditions as EC"
   ]
  },
  {
   "cell_type": "markdown",
   "id": "452acce5",
   "metadata": {
    "heading_collapsed": true
   },
   "source": [
    "# Selenium framework"
   ]
  },
  {
   "cell_type": "markdown",
   "id": "d7907b15",
   "metadata": {},
   "source": [
    "## LinkedIn login "
   ]
  },
  {
   "cell_type": "code",
   "execution_count": 20,
   "id": "5513836d",
   "metadata": {},
   "outputs": [],
   "source": [
    "link_name = 'moogrockersynthesizer@gmail.com'\n",
    "link_password = 'Mr9jCq6NtttN?f8$'\n",
    "job = \"data scientist\"\n",
    "location = \"london\""
   ]
  },
  {
   "cell_type": "code",
   "execution_count": 29,
   "id": "134aa2db",
   "metadata": {},
   "outputs": [],
   "source": [
    "def search_people(job, location):\n",
    "    # Base URL for LinkedIn search\n",
    "    base_url = \"https://www.linkedin.com/search/results/people/\"\n",
    "\n",
    "    # Construct the keywords by combining job and location with a comma\n",
    "    keywords = f\"{job},{location}\"\n",
    "\n",
    "    # URL-encode the keywords\n",
    "    encoded_keywords = urllib.parse.quote(keywords)\n",
    "\n",
    "    # Construct the query parameters\n",
    "    params = f\"keywords={encoded_keywords}&origin=GLOBAL_SEARCH_HEADER\"\n",
    "\n",
    "    # Construct the full URL\n",
    "    search_url = f\"{base_url}?{params}\"\n",
    "\n",
    "    return search_url"
   ]
  },
  {
   "cell_type": "code",
   "execution_count": 31,
   "id": "88e36551",
   "metadata": {
    "hidden": true
   },
   "outputs": [
    {
     "name": "stdout",
     "output_type": "stream",
     "text": [
      "[]\n"
     ]
    }
   ],
   "source": [
    "driver = webdriver.Chrome()\n",
    "\n",
    "# Go to LinkedIn's login page\n",
    "driver.get(\"https://www.linkedin.com/login\")\n",
    "\n",
    "# Find the username and password fields\n",
    "username = driver.find_element(By.NAME, \"session_key\")\n",
    "password = driver.find_element(By.NAME, \"session_password\")\n",
    "\n",
    "# Enter your credentials\n",
    "username.send_keys(link_name)\n",
    "password.send_keys(link_password)\n",
    "\n",
    "# Submit the login form\n",
    "password.send_keys(Keys.RETURN)\n",
    "\n",
    "# Wait for the welcome page to load by waiting for a specific element to appear\n",
    "try:\n",
    "    WebDriverWait(driver, 10).until(\n",
    "        EC.presence_of_element_located((By.ID, \"global-nav\"))  # Adjust the selector to match an element on the welcome page\n",
    "    )\n",
    "except Exception as e:\n",
    "    print(\"Error: Page did not load in time\", e)\n",
    "\n",
    "# # print pdf\n",
    "# print_options = PrintOptions()\n",
    "# pdf_encoded = driver.print_page(print_options)\n",
    "\n",
    "# # Decode the Base64 content\n",
    "# pdf_data = base64.b64decode(pdf_encoded)\n",
    "\n",
    "# # Save the PDF to a file\n",
    "# with open(\"linkedin_page.pdf\", \"wb\") as f:\n",
    "#     f.write(pdf_data)\n",
    "\n",
    "driver.get(search_people(job, location))\n",
    "\n",
    "sleep(5)\n",
    "profile_urls = []\n",
    "results = driver.find_elements(By.CSS_SELECTOR, 'a.app-aware-link')\n",
    "for result in results:\n",
    "    url = result.get_attribute('href')\n",
    "    if '/in/' in url:  # Ensure it's a profile URL\n",
    "        profile_urls.append(url)\n",
    "\n",
    "print(profile_urls)"
   ]
  },
  {
   "cell_type": "code",
   "execution_count": null,
   "id": "51c49aff",
   "metadata": {},
   "outputs": [],
   "source": [
    "def search_profiles(job_title):\n",
    "\n",
    "search = WebDriverWait(driver, 10).until(\n",
    "    EC.element_to_be_clickable((By.CLASS_NAME, 'search-global-typeahead__input'))\n",
    ")\n",
    "\n",
    "# Scroll into view\n",
    "driver.execute_script(\"arguments[0].scrollIntoView();\", search)\n",
    "\n",
    "# Click on the search bar\n",
    "search.click()\n",
    "\n",
    "# Optionally, you can send keys to the search bar to perform a search\n",
    "search.send_keys('data scientist')\n",
    "search.send_keys(Keys.RETURN)\n",
    "sleep(2)\n",
    "\n",
    "# Extract profile URLs\n",
    "profile_urls = []\n",
    "results = driver.find_elements(By.CSS_SELECTOR, 'a.app-aware-link')\n",
    "for result in results:\n",
    "    url = result.get_attribute('href')\n",
    "    if '/in/' in url:  # Ensure it's a profile URL\n",
    "        profile_urls.append(url)\n",
    "\n",
    "return profile_urls"
   ]
  },
  {
   "cell_type": "markdown",
   "id": "a92327a4",
   "metadata": {},
   "source": [
    "## Google login"
   ]
  },
  {
   "cell_type": "code",
   "execution_count": 5,
   "id": "1d569dfd",
   "metadata": {},
   "outputs": [],
   "source": [
    "gg_mail = \"moogrockersynthesizer@gmail.com\"\n",
    "gg_pass = \"C46K7eEA3KRf4@Bj\""
   ]
  },
  {
   "cell_type": "code",
   "execution_count": 6,
   "id": "7f1039f3",
   "metadata": {},
   "outputs": [
    {
     "name": "stdout",
     "output_type": "stream",
     "text": [
      "Password entered.\n",
      "Login successful!\n"
     ]
    }
   ],
   "source": [
    "# Set up Selenium WebDriver (ensure the path to chromedriver is correct)\n",
    "driver = webdriver.Chrome()\n",
    "\n",
    "# Go to the Google login page\n",
    "driver.get('https://accounts.google.com/signin')\n",
    "\n",
    "# Wait for the email input field to be present and enter the email\n",
    "try:\n",
    "    email_field = WebDriverWait(driver, 10).until(\n",
    "        EC.presence_of_element_located((By.NAME, 'identifier'))\n",
    "    )\n",
    "    email_field.send_keys(gg_mail)  # Replace with your email\n",
    "    email_field.send_keys(Keys.RETURN)\n",
    "except Exception as e:\n",
    "    print(\"Error: Email field not found\", e)\n",
    "\n",
    "# Wait for the password input field to be present and enter the password\n",
    "try:\n",
    "    password_field = WebDriverWait(driver, 10).until(\n",
    "        EC.presence_of_element_located((By.NAME, 'Passwd'))\n",
    "    )\n",
    "    password_field.send_keys(gg_pass)  # Replace with your password\n",
    "    password_field.send_keys(Keys.RETURN)\n",
    "    print(\"Password entered.\")\n",
    "except Exception as e:\n",
    "    print(\"Error: Password field not found\", e)\n",
    "\n",
    "# Wait for the login process to complete\n",
    "time.sleep(5)\n",
    "\n",
    "# Verify that the login was successful by checking for a specific element on the homepage\n",
    "try:\n",
    "    WebDriverWait(driver, 10).until(\n",
    "        EC.presence_of_element_located((By.ID, 'gb'))  # Example: Google homepage element\n",
    "    )\n",
    "    print(\"Login successful!\")\n",
    "except Exception as e:\n",
    "    print(\"Error: Login failed\", e)\n",
    "\n",
    "# Close the WebDriver\n",
    "# driver.quit()"
   ]
  },
  {
   "cell_type": "markdown",
   "id": "292983f5",
   "metadata": {},
   "source": [
    "## Google crawling (Linkedin profile scrapping)"
   ]
  },
  {
   "cell_type": "code",
   "execution_count": null,
   "id": "59373470",
   "metadata": {},
   "outputs": [
    {
     "name": "stdout",
     "output_type": "stream",
     "text": [
      "[]\n"
     ]
    }
   ],
   "source": [
    "driver = webdriver.Chrome()\n",
    "\n",
    "# Go to Google's homepage\n",
    "driver.get('https://google.com')\n",
    "\n",
    "# Wait for the cookie consent popup to appear and accept it\n",
    "try:\n",
    "    accept_button = WebDriverWait(driver, 10).until(\n",
    "        EC.presence_of_element_located((By.ID, \"L2AGLb\"))\n",
    "    )\n",
    "    accept_button.click()\n",
    "except Exception as e:\n",
    "    print(\"Error: Cookie consent popup not found or not clicked\", e)\n",
    "\n",
    "# Wait for the search bar to be present\n",
    "try:\n",
    "    sleep(3)\n",
    "    search_query = WebDriverWait(driver, 10).until(\n",
    "        EC.presence_of_element_located((By.NAME, 'q'))\n",
    "    )\n",
    "    search_query.send_keys('site:linkedin.com/in/ AND \"python developer\" AND \"London\"')  # Replace with your search query\n",
    "    search_query.send_keys(Keys.RETURN)\n",
    "except Exception as e:\n",
    "    print(\"Error: Search bar not found\", e)\n",
    "\n",
    "# Wait for the search results to load\n",
    "sleep(3)\n",
    "\n",
    "# ANTICAPTCHA\n",
    "\n",
    "\n",
    "\n",
    "\n",
    "# Find and extract LinkedIn URLs from the search results\n",
    "try:\n",
    "    # Use a more specific CSS selector to target the LinkedIn profile links\n",
    "    linkedin_elements = driver.find_elements(By.CSS_SELECTOR, 'a[href*=\"linkedin.com/in/\"][ping]')\n",
    "    linkedin_urls = [element.get_attribute('href') for element in linkedin_elements]\n",
    "    print(linkedin_urls)\n",
    "\n",
    "except Exception as e:\n",
    "    print(\"Error: LinkedIn URLs not found\", e)\n",
    "\n",
    "# Close the WebDriver\n",
    "# driver.quit()"
   ]
  },
  {
   "cell_type": "code",
   "execution_count": null,
   "id": "9ab578c1",
   "metadata": {},
   "outputs": [
    {
     "ename": "NameError",
     "evalue": "name 'webdriver' is not defined",
     "output_type": "error",
     "traceback": [
      "\u001b[31m---------------------------------------------------------------------------\u001b[39m",
      "\u001b[31mNameError\u001b[39m                                 Traceback (most recent call last)",
      "\u001b[36mCell\u001b[39m\u001b[36m \u001b[39m\u001b[32mIn[1]\u001b[39m\u001b[32m, line 2\u001b[39m\n\u001b[32m      1\u001b[39m \u001b[38;5;66;03m# Set up Selenium WebDriver\u001b[39;00m\n\u001b[32m----> \u001b[39m\u001b[32m2\u001b[39m driver = \u001b[43mwebdriver\u001b[49m.Chrome()\n\u001b[32m      4\u001b[39m \u001b[38;5;66;03m# Go to Google's homepage\u001b[39;00m\n\u001b[32m      5\u001b[39m driver.get(\u001b[33m'\u001b[39m\u001b[33mhttps://google.com\u001b[39m\u001b[33m'\u001b[39m)\n",
      "\u001b[31mNameError\u001b[39m: name 'webdriver' is not defined"
     ]
    }
   ],
   "source": [
    "# Set up Selenium WebDriver\n",
    "driver = webdriver.Chrome()\n",
    "\n",
    "# Go to Google's homepage\n",
    "driver.get('https://google.com')\n",
    "\n",
    "# Wait for the cookie consent popup to appear and accept it\n",
    "try:\n",
    "    accept_button = WebDriverWait(driver, 10).until(\n",
    "        EC.presence_of_element_located((By.ID, \"L2AGLb\"))\n",
    "    )\n",
    "    accept_button.click()\n",
    "    print(\"Cookie consent popup accepted.\")\n",
    "except Exception as e:\n",
    "    print(\"Error: Cookie consent popup not found or not clicked\", e)\n",
    "\n",
    "# Wait for the search bar to be present\n",
    "try:\n",
    "    search_query = WebDriverWait(driver, 10).until(\n",
    "        EC.presence_of_element_located((By.NAME, 'q'))\n",
    "    )\n",
    "    search_query.send_keys('site:linkedin.com/in/ AND \"python developer\" AND \"London\"')  # Replace with your search query\n",
    "    search_query.send_keys(Keys.RETURN)\n",
    "    print(\"Search query submitted.\")\n",
    "except Exception as e:\n",
    "    print(\"Error: Search bar not found\", e)\n",
    "\n",
    "# Wait for the search results to load\n",
    "sleep(3)\n",
    "\n",
    "# Function to extract LinkedIn URLs from the current page\n",
    "def extract_linkedin_urls():\n",
    "    try:\n",
    "        # Use a more specific CSS selector to target the LinkedIn profile links\n",
    "        linkedin_elements = driver.find_elements(By.CSS_SELECTOR, 'a[href*=\"linkedin.com/in/\"][ping]')\n",
    "        linkedin_urls = [element.get_attribute('href') for element in linkedin_elements]\n",
    "        return linkedin_urls\n",
    "    except Exception as e:\n",
    "        print(\"Error: LinkedIn URLs not found\", e)\n",
    "        return []\n",
    "\n",
    "# List to store all LinkedIn URLs\n",
    "all_linkedin_urls = []\n",
    "\n",
    "# Loop through the first 5 pages\n",
    "for page in range(5):\n",
    "    # Wait for the search results to load\n",
    "    sleep(3)\n",
    "\n",
    "    # Extract LinkedIn URLs from the current page\n",
    "    linkedin_urls = extract_linkedin_urls()\n",
    "    all_linkedin_urls.extend(linkedin_urls)\n",
    "    print(f\"Page {page + 1}: {linkedin_urls}\")\n",
    "\n",
    "    # Try to click the \"Next\" button to go to the next page\n",
    "    try:\n",
    "        next_button = WebDriverWait(driver, 10).until(\n",
    "            EC.presence_of_element_located((By.ID, 'pnnext'))\n",
    "        )\n",
    "        print(\"Next button found:\", next_button.get_attribute('outerHTML'))\n",
    "        next_button.click()\n",
    "        print(f\"Navigated to page {page + 2}.\")\n",
    "    except Exception as e:\n",
    "        print(\"Error: Next button not found or not clicked\", e)\n",
    "        break\n",
    "\n",
    "# Print all extracted LinkedIn URLs\n",
    "print(\"All LinkedIn URLs:\", all_linkedin_urls)\n",
    "\n",
    "# Close the WebDriver\n",
    "driver.quit()\n"
   ]
  },
  {
   "cell_type": "markdown",
   "id": "a9d52156",
   "metadata": {},
   "source": [
    "# Mistral OCR"
   ]
  },
  {
   "cell_type": "code",
   "execution_count": 35,
   "id": "e3440b6f",
   "metadata": {},
   "outputs": [],
   "source": [
    "from mistralai import Mistral\n",
    "import os\n",
    "from pathlib import Path\n",
    "from mistralai import DocumentURLChunk, ImageURLChunk, TextChunk\n",
    "import json\n",
    "\n",
    "api_key = \"Hz5YqlbdNAjk2tSGuv7ayxzTkEUPX7HK\"\n",
    "ocr_model = \"mistral-ocr-latest\"\n",
    "pdf = \"formation.pdf\"\n",
    "client = Mistral(api_key=api_key)"
   ]
  },
  {
   "cell_type": "code",
   "execution_count": 43,
   "id": "374dc806",
   "metadata": {},
   "outputs": [],
   "source": [
    "def get_url(pdf):\n",
    "    # Get URL for the uploaded file\n",
    "    uploaded_pdf = client.files.upload(\n",
    "        file={\n",
    "            \"file_name\": pdf,\n",
    "            \"content\": open(pdf, \"rb\"),\n",
    "        },\n",
    "        purpose=\"ocr\"\n",
    "    )\n",
    "    url = client.files.get_signed_url(file_id=uploaded_pdf.id, expiry=1).url\n",
    "    return url"
   ]
  },
  {
   "cell_type": "code",
   "execution_count": 45,
   "id": "789b1572",
   "metadata": {},
   "outputs": [],
   "source": [
    "def _perform_ocr(url: str) -> str:\n",
    "\n",
    "    # Apply OCR to the PDF URL\n",
    "    response = client.ocr.process(\n",
    "        model=ocr_model,\n",
    "        document={\n",
    "            \"type\": \"document_url\",\n",
    "            \"document_url\": url\n",
    "            }\n",
    "        )\n",
    "    ocr_output = \"\\n\\n\".join([f\"### Page {i+1}\\n{response.pages[i].markdown}\" for i in range(len(response.pages))])\n",
    "    return ocr_output"
   ]
  },
  {
   "cell_type": "code",
   "execution_count": 46,
   "id": "802279c5",
   "metadata": {},
   "outputs": [],
   "source": [
    "def get_json(output: str)-> str:\n",
    "\n",
    "    response = client.chat.complete(\n",
    "        model=\"pixtral-12b-latest\",\n",
    "        messages=[\n",
    "            {\n",
    "                \"role\": \"user\",\n",
    "                \"content\": f\"this is the markdown version of a linkedin profile's education:\\n{output}\\nSelect uniquely the part concerning the formation and convert it into a sensible structured json response with the following keys: 'institution', 'degree', 'date', 'description'.\\nThe output should be strictly json with no extra comment\\n\"\n",
    "            },\n",
    "        ],\n",
    "        response_format= {\"type\": \"json_object\"},\n",
    "        temperature=0,\n",
    "    )\n",
    "    response_dict = json.loads(response.choices[0].message.content)\n",
    "    return response_dict"
   ]
  },
  {
   "cell_type": "code",
   "execution_count": null,
   "id": "903df42e",
   "metadata": {},
   "outputs": [],
   "source": [
    "# def open_urls(urls: list) -> str:\n",
    "#     contents = \"# Documents\"\n",
    "#     for url in urls:\n",
    "#         contents += f\"\\n\\n## URL: {url}\\n{_perform_ocr(url)}\"\n",
    "#     return contents"
   ]
  },
  {
   "cell_type": "code",
   "execution_count": 49,
   "id": "9a72de02",
   "metadata": {},
   "outputs": [
    {
     "data": {
      "text/plain": [
       "{'education': [{'institution': 'Imperial College London',\n",
       "   'degree': \"Master's degree\",\n",
       "   'date': 'sept. 2024 - sept. 2025',\n",
       "   'description': 'Artificial Intelligence Applications and Innovation'},\n",
       "  {'institution': 'ESMT Berlin',\n",
       "   'degree': \"Master's degree\",\n",
       "   'date': 'sept. 2021 - sept. 2023',\n",
       "   'description': 'Master in Management - Business Analytics'},\n",
       "  {'institution': 'Queen Mary University of London',\n",
       "   'degree': \"Bachelor's Degree\",\n",
       "   'date': 'sept. 2017 - juil. 2021',\n",
       "   'description': 'e-Commerce Engineering with Law'},\n",
       "  {'institution': '北京邮电大学',\n",
       "   'degree': \"Bachelor's degree\",\n",
       "   'date': 'sept. 2017 - juil. 2021',\n",
       "   'description': 'e-Commerce Engineering with Law'}]}"
      ]
     },
     "execution_count": 49,
     "metadata": {},
     "output_type": "execute_result"
    }
   ],
   "source": [
    "get_json(_perform_ocr(get_url(\"formation.pdf\")))"
   ]
  }
 ],
 "metadata": {
  "kernelspec": {
   "display_name": "synth_env",
   "language": "python",
   "name": "python3"
  },
  "language_info": {
   "codemirror_mode": {
    "name": "ipython",
    "version": 3
   },
   "file_extension": ".py",
   "mimetype": "text/x-python",
   "name": "python",
   "nbconvert_exporter": "python",
   "pygments_lexer": "ipython3",
   "version": "3.13.3"
  },
  "varInspector": {
   "cols": {
    "lenName": 16,
    "lenType": 16,
    "lenVar": 40
   },
   "kernels_config": {
    "python": {
     "delete_cmd_postfix": "",
     "delete_cmd_prefix": "del ",
     "library": "var_list.py",
     "varRefreshCmd": "print(var_dic_list())"
    },
    "r": {
     "delete_cmd_postfix": ") ",
     "delete_cmd_prefix": "rm(",
     "library": "var_list.r",
     "varRefreshCmd": "cat(var_dic_list()) "
    }
   },
   "types_to_exclude": [
    "module",
    "function",
    "builtin_function_or_method",
    "instance",
    "_Feature"
   ],
   "window_display": false
  }
 },
 "nbformat": 4,
 "nbformat_minor": 5
}
