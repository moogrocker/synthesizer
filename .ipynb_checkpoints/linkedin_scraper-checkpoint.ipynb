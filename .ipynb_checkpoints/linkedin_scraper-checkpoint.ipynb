{
 "cells": [
  {
   "cell_type": "code",
   "execution_count": null,
   "id": "fb2de670",
   "metadata": {},
   "outputs": [],
   "source": []
  },
  {
   "cell_type": "markdown",
   "id": "d2dd2e3c",
   "metadata": {
    "heading_collapsed": true
   },
   "source": [
    "## .env"
   ]
  },
  {
   "cell_type": "code",
   "execution_count": 1,
   "id": "ce521ef3",
   "metadata": {
    "hidden": true
   },
   "outputs": [
    {
     "name": "stderr",
     "output_type": "stream",
     "text": [
      "2025-03-12 15:18:54.400868: I tensorflow/core/platform/cpu_feature_guard.cc:193] This TensorFlow binary is optimized with oneAPI Deep Neural Network Library (oneDNN) to use the following CPU instructions in performance-critical operations:  AVX2 AVX512F AVX512_VNNI FMA\n",
      "To enable them in other operations, rebuild TensorFlow with the appropriate compiler flags.\n",
      "2025-03-12 15:18:54.733229: I tensorflow/core/util/util.cc:169] oneDNN custom operations are on. You may see slightly different numerical results due to floating-point round-off errors from different computation orders. To turn them off, set the environment variable `TF_ENABLE_ONEDNN_OPTS=0`.\n"
     ]
    }
   ],
   "source": [
    "import requests\n",
    "from bs4 import BeautifulSoup\n",
    "import base64\n",
    "\n",
    "import pandas as pd\n",
    "import matplotlib.pyplot as plt\n",
    "from fpdf import FPDF\n",
    "\n",
    "from selenium import webdriver\n",
    "from selenium.webdriver.common.by import By\n",
    "from selenium.webdriver.common.keys import Keys\n",
    "from selenium.webdriver.common.print_page_options import PrintOptions\n",
    "\n",
    "\n",
    "from pdf2image import convert_from_path\n",
    "import numpy as np\n",
    "import torch\n",
    "import tensorflow as tf\n",
    "\n",
    "from transformers import AutoProcessor, TFBlipForImageTextRetrieval, TFBlipForQuestionAnswering\n",
    "from PIL import Image"
   ]
  },
  {
   "cell_type": "code",
   "execution_count": null,
   "id": "dd7d6f18",
   "metadata": {
    "hidden": true
   },
   "outputs": [],
   "source": [
    "# sudo apt-get install poppler-utils\n",
    "# brew install poppler"
   ]
  },
  {
   "cell_type": "markdown",
   "id": "452acce5",
   "metadata": {
    "heading_collapsed": true
   },
   "source": [
    "## Selenium framework"
   ]
  },
  {
   "cell_type": "code",
   "execution_count": null,
   "id": "88e36551",
   "metadata": {
    "hidden": true
   },
   "outputs": [],
   "source": [
    "# Set up Selenium WebDriver\n",
    "driver = webdriver.Chrome()\n",
    "\n",
    "# Go to LinkedIn's login page\n",
    "driver.get(\"https://www.linkedin.com/login\")\n",
    "\n",
    "# Find the username and password fields\n",
    "username = driver.find_element(By.NAME, \"session_key\")\n",
    "password = driver.find_element(By.NAME, \"session_password\")\n",
    "\n",
    "# Enter your credentials\n",
    "username.send_keys(\"adauchez08@gmail.com\")\n",
    "password.send_keys(\"Mellerio2001!\")\n",
    "\n",
    "# Submit the login form\n",
    "password.send_keys(Keys.RETURN)\n",
    "\n",
    "# print pdf\n",
    "print_options = PrintOptions()\n",
    "pdf_encoded = driver.print_page(print_options)\n",
    "\n",
    "# Decode the Base64 content\n",
    "pdf_data = base64.b64decode(pdf)"
   ]
  },
  {
   "cell_type": "markdown",
   "id": "cedbf3e3",
   "metadata": {
    "heading_collapsed": true
   },
   "source": [
    "## pdf cleaning -> PIL image"
   ]
  },
  {
   "cell_type": "code",
   "execution_count": null,
   "id": "e9698280",
   "metadata": {
    "hidden": true
   },
   "outputs": [],
   "source": [
    "# Save the decoded content to a PDF file\n",
    "with open(\"decoded_document.pdf\", \"wb\") as pdf_file:\n",
    "    pdf_file.write(pdf_data)\n",
    "    \n",
    "# Convert PDF to PIL Images\n",
    "image = convert_from_path('decoded_document.pdf')"
   ]
  },
  {
   "cell_type": "markdown",
   "id": "25c1e3b5",
   "metadata": {
    "heading_collapsed": true
   },
   "source": [
    "## LLM"
   ]
  },
  {
   "cell_type": "code",
   "execution_count": null,
   "id": "2434792e",
   "metadata": {
    "hidden": true
   },
   "outputs": [],
   "source": [
    "model = TFBlipForQuestionAnswering.from_pretrained(\"Salesforce/blip-vqa-base\")\n",
    "processor = AutoProcessor.from_pretrained(\"Salesforce/blip-vqa-base\")\n",
    "\n",
    "# training\n",
    "# text = \"what is in the picture?\"\n",
    "# label = \"linkedin login\"\n",
    "# inputs = processor(images=image, text=text, return_tensors=\"tf\")\n",
    "# labels = processor(text=label, return_tensors=\"tf\").input_ids\n",
    "\n",
    "# inputs[\"labels\"] = labels\n",
    "# outputs = model(**inputs)\n",
    "# loss = outputs.loss\n",
    "\n",
    "# inference\n",
    "text = \"what is in the picture?\"\n",
    "inputs = processor(images=image, text=text, return_tensors=\"tf\")\n",
    "outputs = model.generate(**inputs)\n",
    "print(processor.decode(outputs[0], skip_special_tokens=True))"
   ]
  },
  {
   "cell_type": "code",
   "execution_count": null,
   "id": "fedf464c",
   "metadata": {
    "hidden": true
   },
   "outputs": [],
   "source": [
    "from transformers import TrOCRProcessor, VisionEncoderDecoderModel\n",
    "from PIL import Image\n",
    "import requests\n",
    "\n",
    "processor = TrOCRProcessor.from_pretrained('microsoft/trocr-base-printed')\n",
    "model = VisionEncoderDecoderModel.from_pretrained('microsoft/trocr-base-printed')\n",
    "pixel_values = processor(images=image, return_tensors=\"pt\").pixel_values\n",
    "\n",
    "generated_ids = model.generate(pixel_values)\n",
    "generated_text = processor.batch_decode(generated_ids, skip_special_tokens=True)[0]\n"
   ]
  },
  {
   "cell_type": "code",
   "execution_count": null,
   "id": "b24347ef",
   "metadata": {
    "hidden": true
   },
   "outputs": [],
   "source": [
    "generated_text"
   ]
  },
  {
   "cell_type": "markdown",
   "id": "c6f26cf4",
   "metadata": {},
   "source": [
    "# TESTS"
   ]
  },
  {
   "cell_type": "code",
   "execution_count": 4,
   "id": "9b341989",
   "metadata": {
    "collapsed": true
   },
   "outputs": [
    {
     "ename": "NoSuchElementException",
     "evalue": "Message: no such element: Unable to locate element: {\"method\":\"css selector\",\"selector\":\"[name=\"email-or-phone\"]\"}\n  (Session info: chrome=134.0.6998.88); For documentation on this error, please visit: https://www.selenium.dev/documentation/webdriver/troubleshooting/errors#no-such-element-exception\nStacktrace:\n#0 0x56311abf4a1a <unknown>\n#1 0x56311a6ac390 <unknown>\n#2 0x56311a6fdc85 <unknown>\n#3 0x56311a6fdeb1 <unknown>\n#4 0x56311a74cd64 <unknown>\n#5 0x56311a723bfd <unknown>\n#6 0x56311a74a07b <unknown>\n#7 0x56311a7239a3 <unknown>\n#8 0x56311a6ef60e <unknown>\n#9 0x56311a6f0dd1 <unknown>\n#10 0x56311abbaddb <unknown>\n#11 0x56311abbecbc <unknown>\n#12 0x56311aba2392 <unknown>\n#13 0x56311abbf834 <unknown>\n#14 0x56311ab861ef <unknown>\n#15 0x56311abe3038 <unknown>\n#16 0x56311abe3216 <unknown>\n#17 0x56311abf3896 <unknown>\n#18 0x7f11d48f7aa4 <unknown>\n#19 0x7f11d4984c3c <unknown>\n",
     "output_type": "error",
     "traceback": [
      "\u001b[0;31m---------------------------------------------------------------------------\u001b[0m",
      "\u001b[0;31mNoSuchElementException\u001b[0m                    Traceback (most recent call last)",
      "Cell \u001b[0;32mIn [4], line 5\u001b[0m\n\u001b[1;32m      2\u001b[0m driver \u001b[38;5;241m=\u001b[39m webdriver\u001b[38;5;241m.\u001b[39mChrome()\n\u001b[1;32m      3\u001b[0m driver\u001b[38;5;241m.\u001b[39mget(\u001b[38;5;124m\"\u001b[39m\u001b[38;5;124mhttps://www.linkedin.com/in/arthur-dauchez/\u001b[39m\u001b[38;5;124m\"\u001b[39m)\n\u001b[0;32m----> 5\u001b[0m username \u001b[38;5;241m=\u001b[39m \u001b[43mdriver\u001b[49m\u001b[38;5;241;43m.\u001b[39;49m\u001b[43mfind_element\u001b[49m\u001b[43m(\u001b[49m\u001b[43mBy\u001b[49m\u001b[38;5;241;43m.\u001b[39;49m\u001b[43mNAME\u001b[49m\u001b[43m,\u001b[49m\u001b[43m \u001b[49m\u001b[38;5;124;43m\"\u001b[39;49m\u001b[38;5;124;43memail-or-phone\u001b[39;49m\u001b[38;5;124;43m\"\u001b[39;49m\u001b[43m)\u001b[49m\n\u001b[1;32m      6\u001b[0m password \u001b[38;5;241m=\u001b[39m driver\u001b[38;5;241m.\u001b[39mfind_element(By\u001b[38;5;241m.\u001b[39mNAME, \u001b[38;5;124m\"\u001b[39m\u001b[38;5;124mpassword\u001b[39m\u001b[38;5;124m\"\u001b[39m)\n\u001b[1;32m      8\u001b[0m \u001b[38;5;66;03m# Credentials\u001b[39;00m\n",
      "File \u001b[0;32m~/.pyenv/versions/3.10.6/envs/lewagon/lib/python3.10/site-packages/selenium/webdriver/remote/webdriver.py:898\u001b[0m, in \u001b[0;36mWebDriver.find_element\u001b[0;34m(self, by, value)\u001b[0m\n\u001b[1;32m    895\u001b[0m         \u001b[38;5;28;01mraise\u001b[39;00m NoSuchElementException(\u001b[38;5;124mf\u001b[39m\u001b[38;5;124m\"\u001b[39m\u001b[38;5;124mCannot locate relative element with: \u001b[39m\u001b[38;5;132;01m{\u001b[39;00mby\u001b[38;5;241m.\u001b[39mroot\u001b[38;5;132;01m}\u001b[39;00m\u001b[38;5;124m\"\u001b[39m)\n\u001b[1;32m    896\u001b[0m     \u001b[38;5;28;01mreturn\u001b[39;00m elements[\u001b[38;5;241m0\u001b[39m]\n\u001b[0;32m--> 898\u001b[0m \u001b[38;5;28;01mreturn\u001b[39;00m \u001b[38;5;28;43mself\u001b[39;49m\u001b[38;5;241;43m.\u001b[39;49m\u001b[43mexecute\u001b[49m\u001b[43m(\u001b[49m\u001b[43mCommand\u001b[49m\u001b[38;5;241;43m.\u001b[39;49m\u001b[43mFIND_ELEMENT\u001b[49m\u001b[43m,\u001b[49m\u001b[43m \u001b[49m\u001b[43m{\u001b[49m\u001b[38;5;124;43m\"\u001b[39;49m\u001b[38;5;124;43musing\u001b[39;49m\u001b[38;5;124;43m\"\u001b[39;49m\u001b[43m:\u001b[49m\u001b[43m \u001b[49m\u001b[43mby\u001b[49m\u001b[43m,\u001b[49m\u001b[43m \u001b[49m\u001b[38;5;124;43m\"\u001b[39;49m\u001b[38;5;124;43mvalue\u001b[39;49m\u001b[38;5;124;43m\"\u001b[39;49m\u001b[43m:\u001b[49m\u001b[43m \u001b[49m\u001b[43mvalue\u001b[49m\u001b[43m}\u001b[49m\u001b[43m)\u001b[49m[\u001b[38;5;124m\"\u001b[39m\u001b[38;5;124mvalue\u001b[39m\u001b[38;5;124m\"\u001b[39m]\n",
      "File \u001b[0;32m~/.pyenv/versions/3.10.6/envs/lewagon/lib/python3.10/site-packages/selenium/webdriver/remote/webdriver.py:429\u001b[0m, in \u001b[0;36mWebDriver.execute\u001b[0;34m(self, driver_command, params)\u001b[0m\n\u001b[1;32m    427\u001b[0m response \u001b[38;5;241m=\u001b[39m \u001b[38;5;28mself\u001b[39m\u001b[38;5;241m.\u001b[39mcommand_executor\u001b[38;5;241m.\u001b[39mexecute(driver_command, params)\n\u001b[1;32m    428\u001b[0m \u001b[38;5;28;01mif\u001b[39;00m response:\n\u001b[0;32m--> 429\u001b[0m     \u001b[38;5;28;43mself\u001b[39;49m\u001b[38;5;241;43m.\u001b[39;49m\u001b[43merror_handler\u001b[49m\u001b[38;5;241;43m.\u001b[39;49m\u001b[43mcheck_response\u001b[49m\u001b[43m(\u001b[49m\u001b[43mresponse\u001b[49m\u001b[43m)\u001b[49m\n\u001b[1;32m    430\u001b[0m     response[\u001b[38;5;124m\"\u001b[39m\u001b[38;5;124mvalue\u001b[39m\u001b[38;5;124m\"\u001b[39m] \u001b[38;5;241m=\u001b[39m \u001b[38;5;28mself\u001b[39m\u001b[38;5;241m.\u001b[39m_unwrap_value(response\u001b[38;5;241m.\u001b[39mget(\u001b[38;5;124m\"\u001b[39m\u001b[38;5;124mvalue\u001b[39m\u001b[38;5;124m\"\u001b[39m, \u001b[38;5;28;01mNone\u001b[39;00m))\n\u001b[1;32m    431\u001b[0m     \u001b[38;5;28;01mreturn\u001b[39;00m response\n",
      "File \u001b[0;32m~/.pyenv/versions/3.10.6/envs/lewagon/lib/python3.10/site-packages/selenium/webdriver/remote/errorhandler.py:232\u001b[0m, in \u001b[0;36mErrorHandler.check_response\u001b[0;34m(self, response)\u001b[0m\n\u001b[1;32m    230\u001b[0m         alert_text \u001b[38;5;241m=\u001b[39m value[\u001b[38;5;124m\"\u001b[39m\u001b[38;5;124malert\u001b[39m\u001b[38;5;124m\"\u001b[39m]\u001b[38;5;241m.\u001b[39mget(\u001b[38;5;124m\"\u001b[39m\u001b[38;5;124mtext\u001b[39m\u001b[38;5;124m\"\u001b[39m)\n\u001b[1;32m    231\u001b[0m     \u001b[38;5;28;01mraise\u001b[39;00m exception_class(message, screen, stacktrace, alert_text)  \u001b[38;5;66;03m# type: ignore[call-arg]  # mypy is not smart enough here\u001b[39;00m\n\u001b[0;32m--> 232\u001b[0m \u001b[38;5;28;01mraise\u001b[39;00m exception_class(message, screen, stacktrace)\n",
      "\u001b[0;31mNoSuchElementException\u001b[0m: Message: no such element: Unable to locate element: {\"method\":\"css selector\",\"selector\":\"[name=\"email-or-phone\"]\"}\n  (Session info: chrome=134.0.6998.88); For documentation on this error, please visit: https://www.selenium.dev/documentation/webdriver/troubleshooting/errors#no-such-element-exception\nStacktrace:\n#0 0x56311abf4a1a <unknown>\n#1 0x56311a6ac390 <unknown>\n#2 0x56311a6fdc85 <unknown>\n#3 0x56311a6fdeb1 <unknown>\n#4 0x56311a74cd64 <unknown>\n#5 0x56311a723bfd <unknown>\n#6 0x56311a74a07b <unknown>\n#7 0x56311a7239a3 <unknown>\n#8 0x56311a6ef60e <unknown>\n#9 0x56311a6f0dd1 <unknown>\n#10 0x56311abbaddb <unknown>\n#11 0x56311abbecbc <unknown>\n#12 0x56311aba2392 <unknown>\n#13 0x56311abbf834 <unknown>\n#14 0x56311ab861ef <unknown>\n#15 0x56311abe3038 <unknown>\n#16 0x56311abe3216 <unknown>\n#17 0x56311abf3896 <unknown>\n#18 0x7f11d48f7aa4 <unknown>\n#19 0x7f11d4984c3c <unknown>\n"
     ]
    }
   ],
   "source": [
    "# Set up Selenium WebDriver\n",
    "driver = webdriver.Chrome()\n",
    "driver.get(\"https://www.linkedin.com/in/arthur-dauchez/\")\n",
    "\n",
    "username = driver.find_element(By.NAME, \"email-or-phone\")\n",
    "password = driver.find_element(By.NAME, \"password\")\n",
    "\n",
    "# Credentials\n",
    "username.send_keys(\"adauchez08@gmail.com\")\n",
    "password.send_keys(\"Mellerio2001!\")\n",
    "\n",
    "# Submit the login form\n",
    "password.send_keys(Keys.RETURN)\n",
    "\n",
    "# Print pdf\n",
    "print_options = PrintOptions()\n",
    "pdf_encoded = driver.print_page(print_options)\n",
    "\n",
    "# Decode the Base64 content\n",
    "pdf_data = base64.b64decode(pdf_encoded)\n",
    "\n",
    "# extract text / generate structured json file(s)\n"
   ]
  }
 ],
 "metadata": {
  "kernelspec": {
   "display_name": "Python 3 (ipykernel)",
   "language": "python",
   "name": "python3"
  },
  "language_info": {
   "codemirror_mode": {
    "name": "ipython",
    "version": 3
   },
   "file_extension": ".py",
   "mimetype": "text/x-python",
   "name": "python",
   "nbconvert_exporter": "python",
   "pygments_lexer": "ipython3",
   "version": "3.10.6"
  },
  "varInspector": {
   "cols": {
    "lenName": 16,
    "lenType": 16,
    "lenVar": 40
   },
   "kernels_config": {
    "python": {
     "delete_cmd_postfix": "",
     "delete_cmd_prefix": "del ",
     "library": "var_list.py",
     "varRefreshCmd": "print(var_dic_list())"
    },
    "r": {
     "delete_cmd_postfix": ") ",
     "delete_cmd_prefix": "rm(",
     "library": "var_list.r",
     "varRefreshCmd": "cat(var_dic_list()) "
    }
   },
   "types_to_exclude": [
    "module",
    "function",
    "builtin_function_or_method",
    "instance",
    "_Feature"
   ],
   "window_display": false
  }
 },
 "nbformat": 4,
 "nbformat_minor": 5
}
